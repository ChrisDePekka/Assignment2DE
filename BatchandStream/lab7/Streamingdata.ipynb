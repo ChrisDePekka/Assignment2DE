{
 "cells": [
  {
   "cell_type": "code",
   "execution_count": null,
   "metadata": {},
   "outputs": [],
   "source": [
    "from pyspark.sql import SparkSession\n",
    "from pyspark import SparkConf\n",
    "from pyspark.sql.types import StructType, StructField, LongType, StringType, DoubleType, ShortType, FloatType, ByteType\n",
    "from time import sleep\n",
    "\n",
    "sparkConf = SparkConf()\n",
    "sparkConf.setMaster(\"spark://spark-master:7077\")\n",
    "sparkConf.setAppName(\"Lab7_1\")\n",
    "sparkConf.set(\"spark.driver.memory\", \"2g\")\n",
    "sparkConf.set(\"spark.executor.cores\", \"1\")\n",
    "sparkConf.set(\"spark.driver.cores\", \"1\")\n",
    "# create the spark session, which is the entry point to Spark SQL engine.\n",
    "spark = SparkSession.builder.config(conf=sparkConf).getOrCreate()\n",
    "\n",
    "dataSchema = StructType(\n",
    "        [StructField(\"ArrDelay\", FloatType(), True),\n",
    "         StructField(\"ArrTime\", FloatType(), True),\n",
    "         StructField(\"DayOfWeek\", ByteType(), True),\n",
    "         StructField(\"DayofMonth\", ByteType(), True),\n",
    "         StructField(\"Dest\", StringType(), True),            # Dest and UniqueCarrier zijn vooralsnog object-type, deze krijg ik nog niet geconvert\n",
    "         StructField(\"Month\", ByteType(), True)\n",
    "         StructField(\"UniqueCarrier\", StringType(), True),\n",
    "         StructField(\"Year\", ShortType(), True),\n",
    "         ])\n",
    "\n",
    "# Read from a source \n",
    "sdf = spark.readStream.schema(dataSchema).option(\"maxFilesPerTrigger\", 1) \\\n",
    "        .csv(\"/home/jovyan/data/airline\")\n",
    "\n",
    "# drop the columns that we do not use\n",
    "new_sdf = sdf.drop(\"DayOfWeek\", \"Dest\", \"DayofMonth\", \"Year\")\n",
    "\n",
    "# create the event time column \n",
    "withEventTimedf = new_sdf.selectExpr(\n",
    "    \"*\",\n",
    "    \"cast(cast(ArrTime as double)/1000000000 as timestamp) as event_time\")\n",
    "\n",
    "withEventTimedf.printSchema()\n",
    "\n",
    "withEventTimedf.groupBy(window(col(\"event_time\"), \"1 minute\"), \"UniqueCarrier\").avg() \\\n",
    "        .writeStream \\\n",
    "        .queryName(\"avg_arrdelay_per_carrier\") \\\n",
    "        .format(\"memory\") \\\n",
    "        .outputMode(\"complete\") \\\n",
    "        .start()\n",
    "\n",
    "for x in range(100):\n",
    "    spark.sql(\"SELECT * FROM avg_arrdelay_per_carrier\").show()\n",
    "    sleep(10)"
   ]
  }
 ],
 "metadata": {
  "language_info": {
   "name": "python"
  },
  "orig_nbformat": 4
 },
 "nbformat": 4,
 "nbformat_minor": 2
}
