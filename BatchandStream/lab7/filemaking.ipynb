{
 "cells": [
  {
   "cell_type": "code",
   "execution_count": null,
   "metadata": {},
   "outputs": [],
   "source": [
    "# Inspecting_CSV file \n",
    "\n",
    "import csv\n",
    "import pandas as pd\n",
    "\n",
    "# Production of sorted csv file\n",
    "#df_2008 = pd.read_csv(\"2008.csv\")\n",
    "#df_2008.sort_values([\"Month\",\"DayofMonth\", \"ArrTime\"],axis=0, ascending=True,inplace=True,ignore_index=True, na_position='first')\n",
    "#ignore_index: this changes the indices so that it again starts at 0 and ends at the last one\n",
    "\n",
    "#file_2008 = open(\"2008_sorted.csv\")\n",
    "#df_2008_sorted = pd.read_csv(\"2008_sorted.csv\")\n",
    "df_2008_sorted.dtypes"
   ]
  },
  {
   "cell_type": "code",
   "execution_count": null,
   "metadata": {},
   "outputs": [],
   "source": [
    "# Production of smaller csv file\n",
    "#df_small_sorted = df_2008_sorted.drop(columns=['SecurityDelay', 'TailNum', 'WeatherDelay', 'TaxiIn', 'TaxiOut', 'ActualElapsedTime', 'AirTime',\n",
    "#                     'CRSArrTime', 'CRSDepTime', 'CRSElapsedTime', 'CancellationCode', 'Cancelled', 'CarrierDelay', \n",
    "#                     'DepDelay', 'DepTime', 'Distance', 'Diverted', 'FlightNum', 'LateAircraftDelay', 'NASDelay', 'Origin'])\n",
    "\n",
    "#df_small_sorted.to_csv(\"2008_sorted_small.csv\",index=False)"
   ]
  }
 ],
 "metadata": {
  "language_info": {
   "name": "python"
  },
  "orig_nbformat": 4
 },
 "nbformat": 4,
 "nbformat_minor": 2
}
